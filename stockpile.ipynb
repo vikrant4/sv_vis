{
 "cells": [
  {
   "cell_type": "code",
   "execution_count": 1,
   "metadata": {},
   "outputs": [],
   "source": [
    "import pandas as pd\n",
    "import numpy as np\n",
    "import matplotlib.pyplot as plt"
   ]
  },
  {
   "cell_type": "code",
   "execution_count": 2,
   "metadata": {},
   "outputs": [],
   "source": [
    "transaction = pd.read_csv('transaction_data.csv')"
   ]
  },
  {
   "cell_type": "code",
   "execution_count": 3,
   "metadata": {},
   "outputs": [],
   "source": [
    "transaction['DATETIMEIN'] = pd.to_datetime(transaction['DATETIMEIN'])"
   ]
  },
  {
   "cell_type": "code",
   "execution_count": 4,
   "metadata": {},
   "outputs": [
    {
     "data": {
      "text/plain": [
       "Index(['DBNO', 'TRANSNO', 'Facility NAME', 'DATETIMEIN', 'WEIGHTNETT',\n",
       "       'ITEM GROUP NAME', 'ITEM NAME', 'INNOUTUT', 'ITEM QTY', 'Volume m3',\n",
       "       'Density factor (t/m3)', 'kg per item', 'tot tonnes',\n",
       "       'Disposal Facility', 'tf_stockpile_vol', 'df_stockpile_vol',\n",
       "       'tf_stockpile_wt', 'df_stockpile_wt'],\n",
       "      dtype='object')"
      ]
     },
     "execution_count": 4,
     "metadata": {},
     "output_type": "execute_result"
    }
   ],
   "source": [
    "transaction.columns"
   ]
  },
  {
   "cell_type": "code",
   "execution_count": 5,
   "metadata": {},
   "outputs": [
    {
     "data": {
      "text/plain": [
       "array(['Venus Bay Transfer Station', 'Walkerville Transfer Station',\n",
       "       'Koonwarra Transfer Station', 'Korumburra Transfer Station',\n",
       "       'Mirboo North Transfer Station', 'Foster Transfer Station'],\n",
       "      dtype=object)"
      ]
     },
     "execution_count": 5,
     "metadata": {},
     "output_type": "execute_result"
    }
   ],
   "source": [
    "transaction['Facility NAME'].unique()"
   ]
  },
  {
   "cell_type": "code",
   "execution_count": 6,
   "metadata": {},
   "outputs": [
    {
     "data": {
      "text/plain": [
       "array([nan, 'GT Recycling', 'MRI', 'Envirodrums', 'Koonwarra Landfill',\n",
       "       'Norstar', 'Visy'], dtype=object)"
      ]
     },
     "execution_count": 6,
     "metadata": {},
     "output_type": "execute_result"
    }
   ],
   "source": [
    "transaction['Disposal Facility'].unique()"
   ]
  },
  {
   "cell_type": "code",
   "execution_count": 7,
   "metadata": {},
   "outputs": [
    {
     "data": {
      "text/plain": [
       "DBNO                                              2\n",
       "TRANSNO                                       39606\n",
       "Facility NAME            Venus Bay Transfer Station\n",
       "DATETIMEIN                      2017-09-03 13:30:28\n",
       "WEIGHTNETT                                        0\n",
       "ITEM GROUP NAME                                 Oil\n",
       "ITEM NAME                             46) Motor Oil\n",
       "INNOUTUT                                         IN\n",
       "ITEM QTY                                          2\n",
       "Volume m3                                       NaN\n",
       "Density factor (t/m3)                          0.92\n",
       "kg per item                                     NaN\n",
       "tot tonnes                                  0.00184\n",
       "Disposal Facility                               NaN\n",
       "tf_stockpile_vol                              25.45\n",
       "df_stockpile_vol                                NaN\n",
       "tf_stockpile_wt                              -7.046\n",
       "df_stockpile_wt                                 NaN\n",
       "Name: 4713, dtype: object"
      ]
     },
     "execution_count": 7,
     "metadata": {},
     "output_type": "execute_result"
    }
   ],
   "source": [
    "transaction.loc[4713]"
   ]
  },
  {
   "cell_type": "code",
   "execution_count": 8,
   "metadata": {},
   "outputs": [],
   "source": [
    "transaction['tf_stockpile_vol'] = np.nan\n",
    "transaction['df_stockpile_vol'] = np.nan\n",
    "transaction['tf_stockpile_wt'] = np.nan\n",
    "transaction['df_stockpile_wt'] = np.nan"
   ]
  },
  {
   "cell_type": "code",
   "execution_count": 9,
   "metadata": {},
   "outputs": [],
   "source": [
    "def stockpile(name_field, vol_field, wt_field):\n",
    "    sign = {\n",
    "        \"Facility NAME\": {\n",
    "            \"IN\": 1,\n",
    "            \"OUT\": -1\n",
    "        },\n",
    "        \"Disposal Facility\": {\n",
    "            \"IN\": -1,\n",
    "            \"OUT\": 1\n",
    "        }\n",
    "    }\n",
    "    for facility in transaction[name_field].unique():\n",
    "        if facility == np.nan:\n",
    "            continue\n",
    "        facility_mask = transaction[name_field] == facility\n",
    "        vol = 0\n",
    "        wt = 0\n",
    "        for index, row in transaction.loc[facility_mask].sort_values(by=['DATETIMEIN']).iterrows():\n",
    "            if not np.isnan(row['Volume m3']):\n",
    "                vol += sign[name_field][row['INNOUTUT']]*row['Volume m3']\n",
    "            if not np.isnan(row['tot tonnes']):\n",
    "                wt += sign[name_field][row['INNOUTUT']]*row['tot tonnes']\n",
    "            transaction.at[index, vol_field] = round(vol, 3)\n",
    "            transaction.at[index, wt_field] = round(wt, 3)"
   ]
  },
  {
   "cell_type": "code",
   "execution_count": 10,
   "metadata": {},
   "outputs": [],
   "source": [
    "stockpile('Facility NAME', 'tf_stockpile_vol', 'tf_stockpile_wt')"
   ]
  },
  {
   "cell_type": "code",
   "execution_count": 11,
   "metadata": {},
   "outputs": [],
   "source": [
    "stockpile('Disposal Facility', 'df_stockpile_vol', 'df_stockpile_wt')"
   ]
  },
  {
   "cell_type": "code",
   "execution_count": 20,
   "metadata": {
    "scrolled": true
   },
   "outputs": [
    {
     "data": {
      "text/html": [
       "<div>\n",
       "<style scoped>\n",
       "    .dataframe tbody tr th:only-of-type {\n",
       "        vertical-align: middle;\n",
       "    }\n",
       "\n",
       "    .dataframe tbody tr th {\n",
       "        vertical-align: top;\n",
       "    }\n",
       "\n",
       "    .dataframe thead th {\n",
       "        text-align: right;\n",
       "    }\n",
       "</style>\n",
       "<table border=\"1\" class=\"dataframe\">\n",
       "  <thead>\n",
       "    <tr style=\"text-align: right;\">\n",
       "      <th></th>\n",
       "      <th>DBNO</th>\n",
       "      <th>TRANSNO</th>\n",
       "      <th>Facility NAME</th>\n",
       "      <th>DATETIMEIN</th>\n",
       "      <th>WEIGHTNETT</th>\n",
       "      <th>ITEM GROUP NAME</th>\n",
       "      <th>ITEM NAME</th>\n",
       "      <th>INNOUTUT</th>\n",
       "      <th>ITEM QTY</th>\n",
       "      <th>Volume m3</th>\n",
       "      <th>Density factor (t/m3)</th>\n",
       "      <th>kg per item</th>\n",
       "      <th>tot tonnes</th>\n",
       "      <th>Disposal Facility</th>\n",
       "      <th>tf_stockpile_vol</th>\n",
       "      <th>df_stockpile_vol</th>\n",
       "      <th>tf_stockpile_wt</th>\n",
       "      <th>df_stockpile_wt</th>\n",
       "    </tr>\n",
       "  </thead>\n",
       "  <tbody>\n",
       "    <tr>\n",
       "      <th>4774</th>\n",
       "      <td>3</td>\n",
       "      <td>58882</td>\n",
       "      <td>Koonwarra Transfer Station</td>\n",
       "      <td>2017-09-01 07:48:06</td>\n",
       "      <td>0.0</td>\n",
       "      <td>Domestic Waste</td>\n",
       "      <td>62) LITTER COLL .5 m</td>\n",
       "      <td>IN</td>\n",
       "      <td>1</td>\n",
       "      <td>0.50</td>\n",
       "      <td>0.08</td>\n",
       "      <td>NaN</td>\n",
       "      <td>0.0400</td>\n",
       "      <td>NaN</td>\n",
       "      <td>0.50</td>\n",
       "      <td>NaN</td>\n",
       "      <td>0.040</td>\n",
       "      <td>NaN</td>\n",
       "    </tr>\n",
       "    <tr>\n",
       "      <th>1334</th>\n",
       "      <td>3</td>\n",
       "      <td>58883</td>\n",
       "      <td>Koonwarra Transfer Station</td>\n",
       "      <td>2017-09-01 08:07:30</td>\n",
       "      <td>0.0</td>\n",
       "      <td>Domestic Waste</td>\n",
       "      <td>04) Car Boot/Wagon</td>\n",
       "      <td>IN</td>\n",
       "      <td>1</td>\n",
       "      <td>0.50</td>\n",
       "      <td>0.13</td>\n",
       "      <td>NaN</td>\n",
       "      <td>0.0650</td>\n",
       "      <td>NaN</td>\n",
       "      <td>1.00</td>\n",
       "      <td>NaN</td>\n",
       "      <td>0.105</td>\n",
       "      <td>NaN</td>\n",
       "    </tr>\n",
       "    <tr>\n",
       "      <th>4801</th>\n",
       "      <td>4</td>\n",
       "      <td>33284</td>\n",
       "      <td>Korumburra Transfer Station</td>\n",
       "      <td>2017-09-01 08:42:20</td>\n",
       "      <td>0.0</td>\n",
       "      <td>Domestic Waste</td>\n",
       "      <td>62) LITTER COLL .5 m</td>\n",
       "      <td>IN</td>\n",
       "      <td>1</td>\n",
       "      <td>0.50</td>\n",
       "      <td>0.08</td>\n",
       "      <td>NaN</td>\n",
       "      <td>0.0400</td>\n",
       "      <td>NaN</td>\n",
       "      <td>0.50</td>\n",
       "      <td>NaN</td>\n",
       "      <td>0.040</td>\n",
       "      <td>NaN</td>\n",
       "    </tr>\n",
       "    <tr>\n",
       "      <th>3402</th>\n",
       "      <td>4</td>\n",
       "      <td>33285</td>\n",
       "      <td>Korumburra Transfer Station</td>\n",
       "      <td>2017-09-01 08:50:06</td>\n",
       "      <td>0.0</td>\n",
       "      <td>Mixed Recyclables</td>\n",
       "      <td>42a) 0.25 Mixed Recycles</td>\n",
       "      <td>IN</td>\n",
       "      <td>1</td>\n",
       "      <td>0.25</td>\n",
       "      <td>0.01</td>\n",
       "      <td>NaN</td>\n",
       "      <td>0.0025</td>\n",
       "      <td>NaN</td>\n",
       "      <td>0.75</td>\n",
       "      <td>NaN</td>\n",
       "      <td>0.043</td>\n",
       "      <td>NaN</td>\n",
       "    </tr>\n",
       "    <tr>\n",
       "      <th>2197</th>\n",
       "      <td>3</td>\n",
       "      <td>58884</td>\n",
       "      <td>Koonwarra Transfer Station</td>\n",
       "      <td>2017-09-01 08:57:44</td>\n",
       "      <td>0.0</td>\n",
       "      <td>Steel</td>\n",
       "      <td>41) 1m STEEL</td>\n",
       "      <td>IN</td>\n",
       "      <td>1</td>\n",
       "      <td>1.00</td>\n",
       "      <td>0.22</td>\n",
       "      <td>NaN</td>\n",
       "      <td>0.2200</td>\n",
       "      <td>NaN</td>\n",
       "      <td>2.00</td>\n",
       "      <td>NaN</td>\n",
       "      <td>0.325</td>\n",
       "      <td>NaN</td>\n",
       "    </tr>\n",
       "  </tbody>\n",
       "</table>\n",
       "</div>"
      ],
      "text/plain": [
       "      DBNO  TRANSNO                Facility NAME          DATETIMEIN  \\\n",
       "4774     3    58882   Koonwarra Transfer Station 2017-09-01 07:48:06   \n",
       "1334     3    58883   Koonwarra Transfer Station 2017-09-01 08:07:30   \n",
       "4801     4    33284  Korumburra Transfer Station 2017-09-01 08:42:20   \n",
       "3402     4    33285  Korumburra Transfer Station 2017-09-01 08:50:06   \n",
       "2197     3    58884   Koonwarra Transfer Station 2017-09-01 08:57:44   \n",
       "\n",
       "      WEIGHTNETT    ITEM GROUP NAME                 ITEM NAME INNOUTUT  \\\n",
       "4774         0.0     Domestic Waste      62) LITTER COLL .5 m       IN   \n",
       "1334         0.0     Domestic Waste        04) Car Boot/Wagon       IN   \n",
       "4801         0.0     Domestic Waste      62) LITTER COLL .5 m       IN   \n",
       "3402         0.0  Mixed Recyclables  42a) 0.25 Mixed Recycles       IN   \n",
       "2197         0.0              Steel              41) 1m STEEL       IN   \n",
       "\n",
       "      ITEM QTY  Volume m3  Density factor (t/m3)  kg per item  tot tonnes  \\\n",
       "4774         1       0.50                   0.08          NaN      0.0400   \n",
       "1334         1       0.50                   0.13          NaN      0.0650   \n",
       "4801         1       0.50                   0.08          NaN      0.0400   \n",
       "3402         1       0.25                   0.01          NaN      0.0025   \n",
       "2197         1       1.00                   0.22          NaN      0.2200   \n",
       "\n",
       "     Disposal Facility  tf_stockpile_vol  df_stockpile_vol  tf_stockpile_wt  \\\n",
       "4774               NaN              0.50               NaN            0.040   \n",
       "1334               NaN              1.00               NaN            0.105   \n",
       "4801               NaN              0.50               NaN            0.040   \n",
       "3402               NaN              0.75               NaN            0.043   \n",
       "2197               NaN              2.00               NaN            0.325   \n",
       "\n",
       "      df_stockpile_wt  \n",
       "4774              NaN  \n",
       "1334              NaN  \n",
       "4801              NaN  \n",
       "3402              NaN  \n",
       "2197              NaN  "
      ]
     },
     "execution_count": 20,
     "metadata": {},
     "output_type": "execute_result"
    }
   ],
   "source": [
    "transaction.sort_values(by=['DATETIMEIN']).head()"
   ]
  },
  {
   "cell_type": "code",
   "execution_count": 19,
   "metadata": {},
   "outputs": [
    {
     "data": {
      "text/plain": [
       "<matplotlib.axes._subplots.AxesSubplot at 0x209d2c76978>"
      ]
     },
     "execution_count": 19,
     "metadata": {},
     "output_type": "execute_result"
    },
    {
     "data": {
      "image/png": "[encoded data removed]",
      "text/plain": [
       "<Figure size 432x288 with 1 Axes>"
      ]
     },
     "metadata": {
      "needs_background": "light"
     },
     "output_type": "display_data"
    }
   ],
   "source": [
    "transaction.loc[transaction['Facility NAME'] == 'Mirboo North Transfer Station'].plot(x='DATETIMEIN', y='tf_stockpile_vol')"
   ]
  },
  {
   "cell_type": "code",
   "execution_count": 14,
   "metadata": {},
   "outputs": [],
   "source": [
    "transaction.to_csv('transaction_data.csv', index=False, header=True)"
   ]
  }
 ],
 "metadata": {
  "kernelspec": {
   "display_name": "Python 3",
   "language": "python",
   "name": "python3"
  },
  "language_info": {
   "codemirror_mode": {
    "name": "ipython",
    "version": 3
   },
   "file_extension": ".py",
   "mimetype": "text/x-python",
   "name": "python",
   "nbconvert_exporter": "python",
   "pygments_lexer": "ipython3",
   "version": "3.6.8"
  }
 },
 "nbformat": 4,
 "nbformat_minor": 2
}
